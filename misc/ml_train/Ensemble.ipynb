{
 "cells": [
  {
   "cell_type": "markdown",
   "metadata": {
    "id": "aecatuTHcDZx"
   },
   "source": [
    "# **Ensemble Learning**"
   ]
  },
  {
   "cell_type": "markdown",
   "metadata": {
    "id": "F-QzAbdHcDZ5"
   },
   "source": [
    "## **Import Libraries**"
   ]
  },
  {
   "cell_type": "code",
   "execution_count": 1,
   "metadata": {
    "execution": {
     "iopub.execute_input": "2025-03-08T16:01:13.033246Z",
     "iopub.status.busy": "2025-03-08T16:01:13.032791Z",
     "iopub.status.idle": "2025-03-08T16:01:15.740414Z",
     "shell.execute_reply": "2025-03-08T16:01:15.739519Z",
     "shell.execute_reply.started": "2025-03-08T16:01:13.033222Z"
    },
    "id": "c8eyx28VcDZ7",
    "trusted": true
   },
   "outputs": [],
   "source": [
    "import re\n",
    "import html\n",
    "import contractions\n",
    "import pandas as pd\n",
    "import matplotlib.pyplot as plt\n",
    "\n",
    "from sklearn.model_selection import train_test_split, GridSearchCV, StratifiedKFold\n",
    "from sklearn.metrics import classification_report, confusion_matrix, ConfusionMatrixDisplay\n",
    "from sklearn.metrics import accuracy_score, precision_score, recall_score, f1_score\n",
    "\n",
    "from sklearn.feature_extraction.text import TfidfVectorizer\n",
    "from imblearn.over_sampling import SMOTE\n",
    "from imblearn.under_sampling import TomekLinks\n",
    "from imblearn.combine import SMOTETomek\n",
    "from imblearn.pipeline import Pipeline as ImbPipeline\n",
    "from sklearn.linear_model import LogisticRegression, SGDClassifier\n",
    "from xgboost import XGBClassifier\n",
    "from sklearn.ensemble import VotingClassifier\n",
    "\n",
    "from nltk.tokenize import word_tokenize\n",
    "from nltk.corpus import stopwords, wordnet\n",
    "from nltk.stem import WordNetLemmatizer\n",
    "from nltk import pos_tag"
   ]
  },
  {
   "cell_type": "code",
   "execution_count": 2,
   "metadata": {
    "execution": {
     "iopub.execute_input": "2025-03-08T16:01:15.742209Z",
     "iopub.status.busy": "2025-03-08T16:01:15.741687Z",
     "iopub.status.idle": "2025-03-08T16:01:15.745467Z",
     "shell.execute_reply": "2025-03-08T16:01:15.744602Z",
     "shell.execute_reply.started": "2025-03-08T16:01:15.742183Z"
    },
    "trusted": true
   },
   "outputs": [],
   "source": [
    "import warnings\n",
    "warnings.filterwarnings(\"ignore\")"
   ]
  },
  {
   "cell_type": "markdown",
   "metadata": {
    "id": "V5Wk39EjcDaC"
   },
   "source": [
    "## **Load Datasets**"
   ]
  },
  {
   "cell_type": "code",
   "execution_count": 3,
   "metadata": {
    "execution": {
     "iopub.execute_input": "2025-03-08T16:01:15.746713Z",
     "iopub.status.busy": "2025-03-08T16:01:15.746475Z",
     "iopub.status.idle": "2025-03-08T16:01:15.929488Z",
     "shell.execute_reply": "2025-03-08T16:01:15.928776Z",
     "shell.execute_reply.started": "2025-03-08T16:01:15.746680Z"
    },
    "id": "OMM-UI1NcDaF",
    "trusted": true
   },
   "outputs": [],
   "source": [
    "df = ['D1CrackingArena', 'D2Twitter', 'D3DreamMarket', 'D4Garage4hackers', 'D5CrackingFire']\n",
    "\n",
    "combined_df = pd.concat([pd.read_csv(f'datasets/{df[i]}.csv') for i in range(len(df))])"
   ]
  },
  {
   "cell_type": "code",
   "execution_count": 4,
   "metadata": {
    "execution": {
     "iopub.execute_input": "2025-03-08T16:01:15.930614Z",
     "iopub.status.busy": "2025-03-08T16:01:15.930304Z",
     "iopub.status.idle": "2025-03-08T16:01:15.944001Z",
     "shell.execute_reply": "2025-03-08T16:01:15.943063Z",
     "shell.execute_reply.started": "2025-03-08T16:01:15.930579Z"
    },
    "id": "5tgUSLUqcDaG",
    "trusted": true
   },
   "outputs": [],
   "source": [
    "combined_df = combined_df[combined_df['label'] != 'Undecided']\n",
    "combined_df['label'] = combined_df['label'].map({'YES': 1, 'NO': 0})"
   ]
  },
  {
   "cell_type": "code",
   "execution_count": 5,
   "metadata": {
    "colab": {
     "base_uri": "https://localhost:8080/"
    },
    "execution": {
     "iopub.execute_input": "2025-03-08T16:01:15.945108Z",
     "iopub.status.busy": "2025-03-08T16:01:15.944793Z",
     "iopub.status.idle": "2025-03-08T16:01:15.958828Z",
     "shell.execute_reply": "2025-03-08T16:01:15.958035Z",
     "shell.execute_reply.started": "2025-03-08T16:01:15.945085Z"
    },
    "id": "kD4yE6o3cDaH",
    "outputId": "a904fbed-b3e9-4b99-aa3e-e728193b4860",
    "trusted": true
   },
   "outputs": [
    {
     "name": "stdout",
     "output_type": "stream",
     "text": [
      "label\n",
      "0    8359\n",
      "1     882\n",
      "Name: count, dtype: int64\n"
     ]
    }
   ],
   "source": [
    "print(combined_df['label'].value_counts())"
   ]
  },
  {
   "cell_type": "markdown",
   "metadata": {
    "id": "kmPoNqgMcDaJ"
   },
   "source": [
    "## **Text Preprocessing**"
   ]
  },
  {
   "cell_type": "code",
   "execution_count": 6,
   "metadata": {
    "execution": {
     "iopub.execute_input": "2025-03-08T16:01:15.960078Z",
     "iopub.status.busy": "2025-03-08T16:01:15.959732Z",
     "iopub.status.idle": "2025-03-08T16:01:15.978031Z",
     "shell.execute_reply": "2025-03-08T16:01:15.977227Z",
     "shell.execute_reply.started": "2025-03-08T16:01:15.960043Z"
    },
    "id": "Z710bculcDaJ",
    "trusted": true
   },
   "outputs": [],
   "source": [
    "lemmatizer = WordNetLemmatizer()\n",
    "stop_words = set(stopwords.words('english')) - {'not', 'no', 'never'}"
   ]
  },
  {
   "cell_type": "code",
   "execution_count": 7,
   "metadata": {
    "execution": {
     "iopub.execute_input": "2025-03-08T16:01:15.980775Z",
     "iopub.status.busy": "2025-03-08T16:01:15.980567Z",
     "iopub.status.idle": "2025-03-08T16:01:15.987020Z",
     "shell.execute_reply": "2025-03-08T16:01:15.986184Z",
     "shell.execute_reply.started": "2025-03-08T16:01:15.980756Z"
    },
    "id": "YtXXzod2cDaK",
    "trusted": true
   },
   "outputs": [],
   "source": [
    "def get_wordnet_pos(treebank_tag):\n",
    "    if treebank_tag.startswith('J'):\n",
    "        return wordnet.ADJ\n",
    "    elif treebank_tag.startswith('V'):\n",
    "        return wordnet.VERB\n",
    "    elif treebank_tag.startswith('N'):\n",
    "        return wordnet.NOUN\n",
    "    elif treebank_tag.startswith('R'):\n",
    "        return wordnet.ADV\n",
    "    else:\n",
    "        return wordnet.NOUN"
   ]
  },
  {
   "cell_type": "code",
   "execution_count": 8,
   "metadata": {
    "execution": {
     "iopub.execute_input": "2025-03-08T16:01:15.988590Z",
     "iopub.status.busy": "2025-03-08T16:01:15.988377Z",
     "iopub.status.idle": "2025-03-08T16:01:16.002760Z",
     "shell.execute_reply": "2025-03-08T16:01:16.002059Z",
     "shell.execute_reply.started": "2025-03-08T16:01:15.988570Z"
    },
    "id": "uEBnKCorcDaL",
    "trusted": true
   },
   "outputs": [],
   "source": [
    "def preprocess(text):\n",
    "    text = html.unescape(text)\n",
    "    text = contractions.fix(text)\n",
    "    text = re.sub(r'http\\S+|www\\S+|@\\S+|\\w+@\\w+\\\\.\\\\w+', '', text)\n",
    "    text = re.sub(r'\\d+', '<NUM>', text)\n",
    "    text = re.sub(r'[^\\w\\s_-]', '', text)\n",
    "    text = text.lower()\n",
    "\n",
    "    tokens = word_tokenize(text)\n",
    "    pos_tags = pos_tag(tokens)\n",
    "    tokens = [lemmatizer.lemmatize(word, get_wordnet_pos(pos))\n",
    "              for (word, pos) in pos_tags]\n",
    "    tokens = [word for word in tokens\n",
    "              if word not in stop_words and len(word) > 2]\n",
    "\n",
    "    return ' '.join(tokens)"
   ]
  },
  {
   "cell_type": "code",
   "execution_count": 9,
   "metadata": {
    "execution": {
     "iopub.execute_input": "2025-03-08T16:01:16.003704Z",
     "iopub.status.busy": "2025-03-08T16:01:16.003498Z",
     "iopub.status.idle": "2025-03-08T16:01:49.064796Z",
     "shell.execute_reply": "2025-03-08T16:01:49.064132Z",
     "shell.execute_reply.started": "2025-03-08T16:01:16.003686Z"
    },
    "id": "OCfaUoNBcDaM",
    "trusted": true
   },
   "outputs": [],
   "source": [
    "combined_df['cleaned_content'] = combined_df['content'].apply(preprocess)"
   ]
  },
  {
   "cell_type": "code",
   "execution_count": 10,
   "metadata": {
    "execution": {
     "iopub.execute_input": "2025-03-08T16:01:49.065783Z",
     "iopub.status.busy": "2025-03-08T16:01:49.065543Z",
     "iopub.status.idle": "2025-03-08T16:01:49.075262Z",
     "shell.execute_reply": "2025-03-08T16:01:49.074405Z",
     "shell.execute_reply.started": "2025-03-08T16:01:49.065761Z"
    },
    "id": "D9mIiDcGcDaP",
    "trusted": true
   },
   "outputs": [],
   "source": [
    "X = combined_df['cleaned_content']\n",
    "y = combined_df['label']\n",
    "\n",
    "X_train, X_test, y_train, y_test = train_test_split(X, y, test_size=0.2,\n",
    "                                                    stratify=y, random_state=42)"
   ]
  },
  {
   "cell_type": "markdown",
   "metadata": {
    "id": "KG8SB2UucDaQ"
   },
   "source": [
    "## **Defining Pipeline**"
   ]
  },
  {
   "cell_type": "code",
   "execution_count": 11,
   "metadata": {
    "colab": {
     "base_uri": "https://localhost:8080/"
    },
    "execution": {
     "iopub.execute_input": "2025-03-08T16:01:49.076686Z",
     "iopub.status.busy": "2025-03-08T16:01:49.076349Z",
     "iopub.status.idle": "2025-03-08T16:01:49.224803Z",
     "shell.execute_reply": "2025-03-08T16:01:49.224074Z",
     "shell.execute_reply.started": "2025-03-08T16:01:49.076634Z"
    },
    "id": "WAqA7IN0cDaR",
    "outputId": "e2a04071-5534-4867-a1bf-9e8e696a5f1c",
    "trusted": true
   },
   "outputs": [],
   "source": [
    "lr = LogisticRegression(\n",
    "    C=0.1, solver='liblinear', penalty='l2', max_iter=1000,\n",
    "    class_weight='balanced', random_state=42, n_jobs=-1  \n",
    ")\n",
    "\n",
    "sgd = SGDClassifier(\n",
    "    loss='log_loss', penalty='l2', max_iter=1000,\n",
    "    class_weight='balanced', random_state=42\n",
    ")\n",
    "\n",
    "xgb = XGBClassifier(\n",
    "    learning_rate=0.1, subsample=0.8, random_state=42, n_jobs=-1\n",
    ")"
   ]
  },
  {
   "cell_type": "code",
   "execution_count": 12,
   "metadata": {
    "execution": {
     "iopub.execute_input": "2025-03-08T16:01:49.225809Z",
     "iopub.status.busy": "2025-03-08T16:01:49.225561Z",
     "iopub.status.idle": "2025-03-08T16:01:49.229557Z",
     "shell.execute_reply": "2025-03-08T16:01:49.228704Z",
     "shell.execute_reply.started": "2025-03-08T16:01:49.225787Z"
    },
    "id": "6uw6IpkJcDaS",
    "trusted": true
   },
   "outputs": [],
   "source": [
    "ensemble = VotingClassifier(estimators=[('lr', lr), ('sgd', sgd), ('xgb', xgb)],\n",
    "                            voting='soft', n_jobs=-1)"
   ]
  },
  {
   "cell_type": "code",
   "execution_count": 13,
   "metadata": {
    "execution": {
     "iopub.execute_input": "2025-03-08T16:01:49.230476Z",
     "iopub.status.busy": "2025-03-08T16:01:49.230247Z",
     "iopub.status.idle": "2025-03-08T16:01:49.245315Z",
     "shell.execute_reply": "2025-03-08T16:01:49.244598Z",
     "shell.execute_reply.started": "2025-03-08T16:01:49.230457Z"
    },
    "id": "TlXsmB93cDaS",
    "trusted": true
   },
   "outputs": [],
   "source": [
    "tfidf = TfidfVectorizer(max_features=5000, ngram_range=(1, 1),\n",
    "                        sublinear_tf=True, min_df=5, max_df=0.8)"
   ]
  },
  {
   "cell_type": "code",
   "execution_count": 14,
   "metadata": {
    "execution": {
     "iopub.execute_input": "2025-03-08T16:01:49.246160Z",
     "iopub.status.busy": "2025-03-08T16:01:49.245941Z",
     "iopub.status.idle": "2025-03-08T16:01:49.261442Z",
     "shell.execute_reply": "2025-03-08T16:01:49.260682Z",
     "shell.execute_reply.started": "2025-03-08T16:01:49.246142Z"
    },
    "id": "JT6K87zacDaT",
    "trusted": true
   },
   "outputs": [],
   "source": [
    "smote = SMOTETomek(smote=SMOTE(sampling_strategy=0.5, k_neighbors=5, random_state=42),\n",
    "                   tomek=TomekLinks(sampling_strategy='auto'),\n",
    "                   random_state=42)"
   ]
  },
  {
   "cell_type": "code",
   "execution_count": 15,
   "metadata": {
    "execution": {
     "iopub.execute_input": "2025-03-08T16:01:49.262254Z",
     "iopub.status.busy": "2025-03-08T16:01:49.262072Z",
     "iopub.status.idle": "2025-03-08T16:01:49.279224Z",
     "shell.execute_reply": "2025-03-08T16:01:49.278434Z",
     "shell.execute_reply.started": "2025-03-08T16:01:49.262237Z"
    },
    "id": "407ouT-NcDaU",
    "trusted": true
   },
   "outputs": [],
   "source": [
    "pipeline = ImbPipeline([('tfidf', tfidf), ('smote', smote), ('ensemble', ensemble)])"
   ]
  },
  {
   "cell_type": "markdown",
   "metadata": {
    "id": "F4hbdvpXcDaV"
   },
   "source": [
    "## **Model Training**"
   ]
  },
  {
   "cell_type": "code",
   "execution_count": 16,
   "metadata": {
    "execution": {
     "iopub.execute_input": "2025-03-08T16:01:49.280263Z",
     "iopub.status.busy": "2025-03-08T16:01:49.280031Z",
     "iopub.status.idle": "2025-03-08T16:01:49.293640Z",
     "shell.execute_reply": "2025-03-08T16:01:49.292805Z",
     "shell.execute_reply.started": "2025-03-08T16:01:49.280243Z"
    },
    "id": "PP9oYz3pcDaW",
    "trusted": true
   },
   "outputs": [],
   "source": [
    "params = {\n",
    "    'tfidf__max_features': [5000, 10000],\n",
    "    'tfidf__ngram_range': [(1, 1), (1, 2)],\n",
    "}"
   ]
  },
  {
   "cell_type": "code",
   "execution_count": 17,
   "metadata": {
    "colab": {
     "base_uri": "https://localhost:8080/"
    },
    "execution": {
     "iopub.execute_input": "2025-03-08T16:01:49.294768Z",
     "iopub.status.busy": "2025-03-08T16:01:49.294478Z",
     "iopub.status.idle": "2025-03-08T16:42:37.177041Z",
     "shell.execute_reply": "2025-03-08T16:42:37.175890Z",
     "shell.execute_reply.started": "2025-03-08T16:01:49.294738Z"
    },
    "id": "eSmxDn21cDaX",
    "outputId": "b5bcaad0-e1e0-440b-c05c-9912beee2449",
    "trusted": true
   },
   "outputs": [
    {
     "data": {
      "text/html": [
       "<style>#sk-container-id-1 {\n",
       "  /* Definition of color scheme common for light and dark mode */\n",
       "  --sklearn-color-text: black;\n",
       "  --sklearn-color-line: gray;\n",
       "  /* Definition of color scheme for unfitted estimators */\n",
       "  --sklearn-color-unfitted-level-0: #fff5e6;\n",
       "  --sklearn-color-unfitted-level-1: #f6e4d2;\n",
       "  --sklearn-color-unfitted-level-2: #ffe0b3;\n",
       "  --sklearn-color-unfitted-level-3: chocolate;\n",
       "  /* Definition of color scheme for fitted estimators */\n",
       "  --sklearn-color-fitted-level-0: #f0f8ff;\n",
       "  --sklearn-color-fitted-level-1: #d4ebff;\n",
       "  --sklearn-color-fitted-level-2: #b3dbfd;\n",
       "  --sklearn-color-fitted-level-3: cornflowerblue;\n",
       "\n",
       "  /* Specific color for light theme */\n",
       "  --sklearn-color-text-on-default-background: var(--sg-text-color, var(--theme-code-foreground, var(--jp-content-font-color1, black)));\n",
       "  --sklearn-color-background: var(--sg-background-color, var(--theme-background, var(--jp-layout-color0, white)));\n",
       "  --sklearn-color-border-box: var(--sg-text-color, var(--theme-code-foreground, var(--jp-content-font-color1, black)));\n",
       "  --sklearn-color-icon: #696969;\n",
       "\n",
       "  @media (prefers-color-scheme: dark) {\n",
       "    /* Redefinition of color scheme for dark theme */\n",
       "    --sklearn-color-text-on-default-background: var(--sg-text-color, var(--theme-code-foreground, var(--jp-content-font-color1, white)));\n",
       "    --sklearn-color-background: var(--sg-background-color, var(--theme-background, var(--jp-layout-color0, #111)));\n",
       "    --sklearn-color-border-box: var(--sg-text-color, var(--theme-code-foreground, var(--jp-content-font-color1, white)));\n",
       "    --sklearn-color-icon: #878787;\n",
       "  }\n",
       "}\n",
       "\n",
       "#sk-container-id-1 {\n",
       "  color: var(--sklearn-color-text);\n",
       "}\n",
       "\n",
       "#sk-container-id-1 pre {\n",
       "  padding: 0;\n",
       "}\n",
       "\n",
       "#sk-container-id-1 input.sk-hidden--visually {\n",
       "  border: 0;\n",
       "  clip: rect(1px 1px 1px 1px);\n",
       "  clip: rect(1px, 1px, 1px, 1px);\n",
       "  height: 1px;\n",
       "  margin: -1px;\n",
       "  overflow: hidden;\n",
       "  padding: 0;\n",
       "  position: absolute;\n",
       "  width: 1px;\n",
       "}\n",
       "\n",
       "#sk-container-id-1 div.sk-dashed-wrapped {\n",
       "  border: 1px dashed var(--sklearn-color-line);\n",
       "  margin: 0 0.4em 0.5em 0.4em;\n",
       "  box-sizing: border-box;\n",
       "  padding-bottom: 0.4em;\n",
       "  background-color: var(--sklearn-color-background);\n",
       "}\n",
       "\n",
       "#sk-container-id-1 div.sk-container {\n",
       "  /* jupyter's `normalize.less` sets `[hidden] { display: none; }`\n",
       "     but bootstrap.min.css set `[hidden] { display: none !important; }`\n",
       "     so we also need the `!important` here to be able to override the\n",
       "     default hidden behavior on the sphinx rendered scikit-learn.org.\n",
       "     See: https://github.com/scikit-learn/scikit-learn/issues/21755 */\n",
       "  display: inline-block !important;\n",
       "  position: relative;\n",
       "}\n",
       "\n",
       "#sk-container-id-1 div.sk-text-repr-fallback {\n",
       "  display: none;\n",
       "}\n",
       "\n",
       "div.sk-parallel-item,\n",
       "div.sk-serial,\n",
       "div.sk-item {\n",
       "  /* draw centered vertical line to link estimators */\n",
       "  background-image: linear-gradient(var(--sklearn-color-text-on-default-background), var(--sklearn-color-text-on-default-background));\n",
       "  background-size: 2px 100%;\n",
       "  background-repeat: no-repeat;\n",
       "  background-position: center center;\n",
       "}\n",
       "\n",
       "/* Parallel-specific style estimator block */\n",
       "\n",
       "#sk-container-id-1 div.sk-parallel-item::after {\n",
       "  content: \"\";\n",
       "  width: 100%;\n",
       "  border-bottom: 2px solid var(--sklearn-color-text-on-default-background);\n",
       "  flex-grow: 1;\n",
       "}\n",
       "\n",
       "#sk-container-id-1 div.sk-parallel {\n",
       "  display: flex;\n",
       "  align-items: stretch;\n",
       "  justify-content: center;\n",
       "  background-color: var(--sklearn-color-background);\n",
       "  position: relative;\n",
       "}\n",
       "\n",
       "#sk-container-id-1 div.sk-parallel-item {\n",
       "  display: flex;\n",
       "  flex-direction: column;\n",
       "}\n",
       "\n",
       "#sk-container-id-1 div.sk-parallel-item:first-child::after {\n",
       "  align-self: flex-end;\n",
       "  width: 50%;\n",
       "}\n",
       "\n",
       "#sk-container-id-1 div.sk-parallel-item:last-child::after {\n",
       "  align-self: flex-start;\n",
       "  width: 50%;\n",
       "}\n",
       "\n",
       "#sk-container-id-1 div.sk-parallel-item:only-child::after {\n",
       "  width: 0;\n",
       "}\n",
       "\n",
       "/* Serial-specific style estimator block */\n",
       "\n",
       "#sk-container-id-1 div.sk-serial {\n",
       "  display: flex;\n",
       "  flex-direction: column;\n",
       "  align-items: center;\n",
       "  background-color: var(--sklearn-color-background);\n",
       "  padding-right: 1em;\n",
       "  padding-left: 1em;\n",
       "}\n",
       "\n",
       "\n",
       "/* Toggleable style: style used for estimator/Pipeline/ColumnTransformer box that is\n",
       "clickable and can be expanded/collapsed.\n",
       "- Pipeline and ColumnTransformer use this feature and define the default style\n",
       "- Estimators will overwrite some part of the style using the `sk-estimator` class\n",
       "*/\n",
       "\n",
       "/* Pipeline and ColumnTransformer style (default) */\n",
       "\n",
       "#sk-container-id-1 div.sk-toggleable {\n",
       "  /* Default theme specific background. It is overwritten whether we have a\n",
       "  specific estimator or a Pipeline/ColumnTransformer */\n",
       "  background-color: var(--sklearn-color-background);\n",
       "}\n",
       "\n",
       "/* Toggleable label */\n",
       "#sk-container-id-1 label.sk-toggleable__label {\n",
       "  cursor: pointer;\n",
       "  display: block;\n",
       "  width: 100%;\n",
       "  margin-bottom: 0;\n",
       "  padding: 0.5em;\n",
       "  box-sizing: border-box;\n",
       "  text-align: center;\n",
       "}\n",
       "\n",
       "#sk-container-id-1 label.sk-toggleable__label-arrow:before {\n",
       "  /* Arrow on the left of the label */\n",
       "  content: \"▸\";\n",
       "  float: left;\n",
       "  margin-right: 0.25em;\n",
       "  color: var(--sklearn-color-icon);\n",
       "}\n",
       "\n",
       "#sk-container-id-1 label.sk-toggleable__label-arrow:hover:before {\n",
       "  color: var(--sklearn-color-text);\n",
       "}\n",
       "\n",
       "/* Toggleable content - dropdown */\n",
       "\n",
       "#sk-container-id-1 div.sk-toggleable__content {\n",
       "  max-height: 0;\n",
       "  max-width: 0;\n",
       "  overflow: hidden;\n",
       "  text-align: left;\n",
       "  /* unfitted */\n",
       "  background-color: var(--sklearn-color-unfitted-level-0);\n",
       "}\n",
       "\n",
       "#sk-container-id-1 div.sk-toggleable__content.fitted {\n",
       "  /* fitted */\n",
       "  background-color: var(--sklearn-color-fitted-level-0);\n",
       "}\n",
       "\n",
       "#sk-container-id-1 div.sk-toggleable__content pre {\n",
       "  margin: 0.2em;\n",
       "  border-radius: 0.25em;\n",
       "  color: var(--sklearn-color-text);\n",
       "  /* unfitted */\n",
       "  background-color: var(--sklearn-color-unfitted-level-0);\n",
       "}\n",
       "\n",
       "#sk-container-id-1 div.sk-toggleable__content.fitted pre {\n",
       "  /* unfitted */\n",
       "  background-color: var(--sklearn-color-fitted-level-0);\n",
       "}\n",
       "\n",
       "#sk-container-id-1 input.sk-toggleable__control:checked~div.sk-toggleable__content {\n",
       "  /* Expand drop-down */\n",
       "  max-height: 200px;\n",
       "  max-width: 100%;\n",
       "  overflow: auto;\n",
       "}\n",
       "\n",
       "#sk-container-id-1 input.sk-toggleable__control:checked~label.sk-toggleable__label-arrow:before {\n",
       "  content: \"▾\";\n",
       "}\n",
       "\n",
       "/* Pipeline/ColumnTransformer-specific style */\n",
       "\n",
       "#sk-container-id-1 div.sk-label input.sk-toggleable__control:checked~label.sk-toggleable__label {\n",
       "  color: var(--sklearn-color-text);\n",
       "  background-color: var(--sklearn-color-unfitted-level-2);\n",
       "}\n",
       "\n",
       "#sk-container-id-1 div.sk-label.fitted input.sk-toggleable__control:checked~label.sk-toggleable__label {\n",
       "  background-color: var(--sklearn-color-fitted-level-2);\n",
       "}\n",
       "\n",
       "/* Estimator-specific style */\n",
       "\n",
       "/* Colorize estimator box */\n",
       "#sk-container-id-1 div.sk-estimator input.sk-toggleable__control:checked~label.sk-toggleable__label {\n",
       "  /* unfitted */\n",
       "  background-color: var(--sklearn-color-unfitted-level-2);\n",
       "}\n",
       "\n",
       "#sk-container-id-1 div.sk-estimator.fitted input.sk-toggleable__control:checked~label.sk-toggleable__label {\n",
       "  /* fitted */\n",
       "  background-color: var(--sklearn-color-fitted-level-2);\n",
       "}\n",
       "\n",
       "#sk-container-id-1 div.sk-label label.sk-toggleable__label,\n",
       "#sk-container-id-1 div.sk-label label {\n",
       "  /* The background is the default theme color */\n",
       "  color: var(--sklearn-color-text-on-default-background);\n",
       "}\n",
       "\n",
       "/* On hover, darken the color of the background */\n",
       "#sk-container-id-1 div.sk-label:hover label.sk-toggleable__label {\n",
       "  color: var(--sklearn-color-text);\n",
       "  background-color: var(--sklearn-color-unfitted-level-2);\n",
       "}\n",
       "\n",
       "/* Label box, darken color on hover, fitted */\n",
       "#sk-container-id-1 div.sk-label.fitted:hover label.sk-toggleable__label.fitted {\n",
       "  color: var(--sklearn-color-text);\n",
       "  background-color: var(--sklearn-color-fitted-level-2);\n",
       "}\n",
       "\n",
       "/* Estimator label */\n",
       "\n",
       "#sk-container-id-1 div.sk-label label {\n",
       "  font-family: monospace;\n",
       "  font-weight: bold;\n",
       "  display: inline-block;\n",
       "  line-height: 1.2em;\n",
       "}\n",
       "\n",
       "#sk-container-id-1 div.sk-label-container {\n",
       "  text-align: center;\n",
       "}\n",
       "\n",
       "/* Estimator-specific */\n",
       "#sk-container-id-1 div.sk-estimator {\n",
       "  font-family: monospace;\n",
       "  border: 1px dotted var(--sklearn-color-border-box);\n",
       "  border-radius: 0.25em;\n",
       "  box-sizing: border-box;\n",
       "  margin-bottom: 0.5em;\n",
       "  /* unfitted */\n",
       "  background-color: var(--sklearn-color-unfitted-level-0);\n",
       "}\n",
       "\n",
       "#sk-container-id-1 div.sk-estimator.fitted {\n",
       "  /* fitted */\n",
       "  background-color: var(--sklearn-color-fitted-level-0);\n",
       "}\n",
       "\n",
       "/* on hover */\n",
       "#sk-container-id-1 div.sk-estimator:hover {\n",
       "  /* unfitted */\n",
       "  background-color: var(--sklearn-color-unfitted-level-2);\n",
       "}\n",
       "\n",
       "#sk-container-id-1 div.sk-estimator.fitted:hover {\n",
       "  /* fitted */\n",
       "  background-color: var(--sklearn-color-fitted-level-2);\n",
       "}\n",
       "\n",
       "/* Specification for estimator info (e.g. \"i\" and \"?\") */\n",
       "\n",
       "/* Common style for \"i\" and \"?\" */\n",
       "\n",
       ".sk-estimator-doc-link,\n",
       "a:link.sk-estimator-doc-link,\n",
       "a:visited.sk-estimator-doc-link {\n",
       "  float: right;\n",
       "  font-size: smaller;\n",
       "  line-height: 1em;\n",
       "  font-family: monospace;\n",
       "  background-color: var(--sklearn-color-background);\n",
       "  border-radius: 1em;\n",
       "  height: 1em;\n",
       "  width: 1em;\n",
       "  text-decoration: none !important;\n",
       "  margin-left: 1ex;\n",
       "  /* unfitted */\n",
       "  border: var(--sklearn-color-unfitted-level-1) 1pt solid;\n",
       "  color: var(--sklearn-color-unfitted-level-1);\n",
       "}\n",
       "\n",
       ".sk-estimator-doc-link.fitted,\n",
       "a:link.sk-estimator-doc-link.fitted,\n",
       "a:visited.sk-estimator-doc-link.fitted {\n",
       "  /* fitted */\n",
       "  border: var(--sklearn-color-fitted-level-1) 1pt solid;\n",
       "  color: var(--sklearn-color-fitted-level-1);\n",
       "}\n",
       "\n",
       "/* On hover */\n",
       "div.sk-estimator:hover .sk-estimator-doc-link:hover,\n",
       ".sk-estimator-doc-link:hover,\n",
       "div.sk-label-container:hover .sk-estimator-doc-link:hover,\n",
       ".sk-estimator-doc-link:hover {\n",
       "  /* unfitted */\n",
       "  background-color: var(--sklearn-color-unfitted-level-3);\n",
       "  color: var(--sklearn-color-background);\n",
       "  text-decoration: none;\n",
       "}\n",
       "\n",
       "div.sk-estimator.fitted:hover .sk-estimator-doc-link.fitted:hover,\n",
       ".sk-estimator-doc-link.fitted:hover,\n",
       "div.sk-label-container:hover .sk-estimator-doc-link.fitted:hover,\n",
       ".sk-estimator-doc-link.fitted:hover {\n",
       "  /* fitted */\n",
       "  background-color: var(--sklearn-color-fitted-level-3);\n",
       "  color: var(--sklearn-color-background);\n",
       "  text-decoration: none;\n",
       "}\n",
       "\n",
       "/* Span, style for the box shown on hovering the info icon */\n",
       ".sk-estimator-doc-link span {\n",
       "  display: none;\n",
       "  z-index: 9999;\n",
       "  position: relative;\n",
       "  font-weight: normal;\n",
       "  right: .2ex;\n",
       "  padding: .5ex;\n",
       "  margin: .5ex;\n",
       "  width: min-content;\n",
       "  min-width: 20ex;\n",
       "  max-width: 50ex;\n",
       "  color: var(--sklearn-color-text);\n",
       "  box-shadow: 2pt 2pt 4pt #999;\n",
       "  /* unfitted */\n",
       "  background: var(--sklearn-color-unfitted-level-0);\n",
       "  border: .5pt solid var(--sklearn-color-unfitted-level-3);\n",
       "}\n",
       "\n",
       ".sk-estimator-doc-link.fitted span {\n",
       "  /* fitted */\n",
       "  background: var(--sklearn-color-fitted-level-0);\n",
       "  border: var(--sklearn-color-fitted-level-3);\n",
       "}\n",
       "\n",
       ".sk-estimator-doc-link:hover span {\n",
       "  display: block;\n",
       "}\n",
       "\n",
       "/* \"?\"-specific style due to the `<a>` HTML tag */\n",
       "\n",
       "#sk-container-id-1 a.estimator_doc_link {\n",
       "  float: right;\n",
       "  font-size: 1rem;\n",
       "  line-height: 1em;\n",
       "  font-family: monospace;\n",
       "  background-color: var(--sklearn-color-background);\n",
       "  border-radius: 1rem;\n",
       "  height: 1rem;\n",
       "  width: 1rem;\n",
       "  text-decoration: none;\n",
       "  /* unfitted */\n",
       "  color: var(--sklearn-color-unfitted-level-1);\n",
       "  border: var(--sklearn-color-unfitted-level-1) 1pt solid;\n",
       "}\n",
       "\n",
       "#sk-container-id-1 a.estimator_doc_link.fitted {\n",
       "  /* fitted */\n",
       "  border: var(--sklearn-color-fitted-level-1) 1pt solid;\n",
       "  color: var(--sklearn-color-fitted-level-1);\n",
       "}\n",
       "\n",
       "/* On hover */\n",
       "#sk-container-id-1 a.estimator_doc_link:hover {\n",
       "  /* unfitted */\n",
       "  background-color: var(--sklearn-color-unfitted-level-3);\n",
       "  color: var(--sklearn-color-background);\n",
       "  text-decoration: none;\n",
       "}\n",
       "\n",
       "#sk-container-id-1 a.estimator_doc_link.fitted:hover {\n",
       "  /* fitted */\n",
       "  background-color: var(--sklearn-color-fitted-level-3);\n",
       "}\n",
       "</style><div id=\"sk-container-id-1\" class=\"sk-top-container\"><div class=\"sk-text-repr-fallback\"><pre>GridSearchCV(cv=StratifiedKFold(n_splits=5, random_state=None, shuffle=False),\n",
       "             estimator=Pipeline(steps=[(&#x27;tfidf&#x27;,\n",
       "                                        TfidfVectorizer(max_df=0.8,\n",
       "                                                        max_features=5000,\n",
       "                                                        min_df=5,\n",
       "                                                        sublinear_tf=True)),\n",
       "                                       (&#x27;smote&#x27;,\n",
       "                                        SMOTETomek(random_state=42,\n",
       "                                                   smote=SMOTE(random_state=42,\n",
       "                                                               sampling_strategy=0.5),\n",
       "                                                   tomek=TomekLinks())),\n",
       "                                       (&#x27;ensemble&#x27;,\n",
       "                                        VotingClassifier(estimators=[(&#x27;lr&#x27;,\n",
       "                                                                      LogisticRe...\n",
       "                                                                                    max_cat_to_onehot=None,\n",
       "                                                                                    max_delta_step=None,\n",
       "                                                                                    max_depth=None,\n",
       "                                                                                    max_leaves=None,\n",
       "                                                                                    min_child_weight=None,\n",
       "                                                                                    missing=nan,\n",
       "                                                                                    monotone_constraints=None,\n",
       "                                                                                    multi_strategy=None,\n",
       "                                                                                    n_estimators=None,\n",
       "                                                                                    n_jobs=-1,\n",
       "                                                                                    num_parallel_tree=None,\n",
       "                                                                                    random_state=42, ...))],\n",
       "                                                         n_jobs=-1,\n",
       "                                                         voting=&#x27;soft&#x27;))]),\n",
       "             n_jobs=-1,\n",
       "             param_grid={&#x27;tfidf__max_features&#x27;: [5000, 10000],\n",
       "                         &#x27;tfidf__ngram_range&#x27;: [(1, 1), (1, 2)]},\n",
       "             scoring=&#x27;f1&#x27;)</pre><b>In a Jupyter environment, please rerun this cell to show the HTML representation or trust the notebook. <br />On GitHub, the HTML representation is unable to render, please try loading this page with nbviewer.org.</b></div><div class=\"sk-container\" hidden><div class=\"sk-item sk-dashed-wrapped\"><div class=\"sk-label-container\"><div class=\"sk-label fitted sk-toggleable\"><input class=\"sk-toggleable__control sk-hidden--visually\" id=\"sk-estimator-id-1\" type=\"checkbox\" ><label for=\"sk-estimator-id-1\" class=\"sk-toggleable__label fitted sk-toggleable__label-arrow fitted\">&nbsp;&nbsp;GridSearchCV<a class=\"sk-estimator-doc-link fitted\" rel=\"noreferrer\" target=\"_blank\" href=\"https://scikit-learn.org/1.5/modules/generated/sklearn.model_selection.GridSearchCV.html\">?<span>Documentation for GridSearchCV</span></a><span class=\"sk-estimator-doc-link fitted\">i<span>Fitted</span></span></label><div class=\"sk-toggleable__content fitted\"><pre>GridSearchCV(cv=StratifiedKFold(n_splits=5, random_state=None, shuffle=False),\n",
       "             estimator=Pipeline(steps=[(&#x27;tfidf&#x27;,\n",
       "                                        TfidfVectorizer(max_df=0.8,\n",
       "                                                        max_features=5000,\n",
       "                                                        min_df=5,\n",
       "                                                        sublinear_tf=True)),\n",
       "                                       (&#x27;smote&#x27;,\n",
       "                                        SMOTETomek(random_state=42,\n",
       "                                                   smote=SMOTE(random_state=42,\n",
       "                                                               sampling_strategy=0.5),\n",
       "                                                   tomek=TomekLinks())),\n",
       "                                       (&#x27;ensemble&#x27;,\n",
       "                                        VotingClassifier(estimators=[(&#x27;lr&#x27;,\n",
       "                                                                      LogisticRe...\n",
       "                                                                                    max_cat_to_onehot=None,\n",
       "                                                                                    max_delta_step=None,\n",
       "                                                                                    max_depth=None,\n",
       "                                                                                    max_leaves=None,\n",
       "                                                                                    min_child_weight=None,\n",
       "                                                                                    missing=nan,\n",
       "                                                                                    monotone_constraints=None,\n",
       "                                                                                    multi_strategy=None,\n",
       "                                                                                    n_estimators=None,\n",
       "                                                                                    n_jobs=-1,\n",
       "                                                                                    num_parallel_tree=None,\n",
       "                                                                                    random_state=42, ...))],\n",
       "                                                         n_jobs=-1,\n",
       "                                                         voting=&#x27;soft&#x27;))]),\n",
       "             n_jobs=-1,\n",
       "             param_grid={&#x27;tfidf__max_features&#x27;: [5000, 10000],\n",
       "                         &#x27;tfidf__ngram_range&#x27;: [(1, 1), (1, 2)]},\n",
       "             scoring=&#x27;f1&#x27;)</pre></div> </div></div><div class=\"sk-parallel\"><div class=\"sk-parallel-item\"><div class=\"sk-item\"><div class=\"sk-label-container\"><div class=\"sk-label fitted sk-toggleable\"><input class=\"sk-toggleable__control sk-hidden--visually\" id=\"sk-estimator-id-2\" type=\"checkbox\" ><label for=\"sk-estimator-id-2\" class=\"sk-toggleable__label fitted sk-toggleable__label-arrow fitted\">best_estimator_: Pipeline</label><div class=\"sk-toggleable__content fitted\"><pre>Pipeline(steps=[(&#x27;tfidf&#x27;,\n",
       "                 TfidfVectorizer(max_df=0.8, max_features=5000, min_df=5,\n",
       "                                 sublinear_tf=True)),\n",
       "                (&#x27;smote&#x27;,\n",
       "                 SMOTETomek(random_state=42,\n",
       "                            smote=SMOTE(random_state=42, sampling_strategy=0.5),\n",
       "                            tomek=TomekLinks())),\n",
       "                (&#x27;ensemble&#x27;,\n",
       "                 VotingClassifier(estimators=[(&#x27;lr&#x27;,\n",
       "                                               LogisticRegression(C=0.1,\n",
       "                                                                  class_weight=&#x27;balanced&#x27;,\n",
       "                                                                  max_iter=1000,\n",
       "                                                                  n_jobs=-1,\n",
       "                                                                  random_state=42,\n",
       "                                                                  solver=...\n",
       "                                                             importance_type=None,\n",
       "                                                             interaction_constraints=None,\n",
       "                                                             learning_rate=0.1,\n",
       "                                                             max_bin=None,\n",
       "                                                             max_cat_threshold=None,\n",
       "                                                             max_cat_to_onehot=None,\n",
       "                                                             max_delta_step=None,\n",
       "                                                             max_depth=None,\n",
       "                                                             max_leaves=None,\n",
       "                                                             min_child_weight=None,\n",
       "                                                             missing=nan,\n",
       "                                                             monotone_constraints=None,\n",
       "                                                             multi_strategy=None,\n",
       "                                                             n_estimators=None,\n",
       "                                                             n_jobs=-1,\n",
       "                                                             num_parallel_tree=None,\n",
       "                                                             random_state=42, ...))],\n",
       "                                  n_jobs=-1, voting=&#x27;soft&#x27;))])</pre></div> </div></div><div class=\"sk-serial\"><div class=\"sk-item\"><div class=\"sk-serial\"><div class=\"sk-item\"><div class=\"sk-estimator fitted sk-toggleable\"><input class=\"sk-toggleable__control sk-hidden--visually\" id=\"sk-estimator-id-3\" type=\"checkbox\" ><label for=\"sk-estimator-id-3\" class=\"sk-toggleable__label fitted sk-toggleable__label-arrow fitted\">&nbsp;TfidfVectorizer<a class=\"sk-estimator-doc-link fitted\" rel=\"noreferrer\" target=\"_blank\" href=\"https://scikit-learn.org/1.5/modules/generated/sklearn.feature_extraction.text.TfidfVectorizer.html\">?<span>Documentation for TfidfVectorizer</span></a></label><div class=\"sk-toggleable__content fitted\"><pre>TfidfVectorizer(max_df=0.8, max_features=5000, min_df=5, sublinear_tf=True)</pre></div> </div></div><div class=\"sk-item sk-dashed-wrapped\"><div class=\"sk-label-container\"><div class=\"sk-label fitted sk-toggleable\"><input class=\"sk-toggleable__control sk-hidden--visually\" id=\"sk-estimator-id-4\" type=\"checkbox\" ><label for=\"sk-estimator-id-4\" class=\"sk-toggleable__label fitted sk-toggleable__label-arrow fitted\">smote: SMOTETomek</label><div class=\"sk-toggleable__content fitted\"><pre>SMOTETomek(random_state=42, smote=SMOTE(random_state=42, sampling_strategy=0.5),\n",
       "           tomek=TomekLinks())</pre></div> </div></div><div class=\"sk-parallel\"><div class=\"sk-parallel-item\"><div class=\"sk-item\"><div class=\"sk-label-container\"><div class=\"sk-label fitted sk-toggleable\"><input class=\"sk-toggleable__control sk-hidden--visually\" id=\"sk-estimator-id-5\" type=\"checkbox\" ><label for=\"sk-estimator-id-5\" class=\"sk-toggleable__label fitted sk-toggleable__label-arrow fitted\">smote: SMOTE</label><div class=\"sk-toggleable__content fitted\"><pre>SMOTE(random_state=42, sampling_strategy=0.5)</pre></div> </div></div><div class=\"sk-serial\"><div class=\"sk-item\"><div class=\"sk-estimator fitted sk-toggleable\"><input class=\"sk-toggleable__control sk-hidden--visually\" id=\"sk-estimator-id-6\" type=\"checkbox\" ><label for=\"sk-estimator-id-6\" class=\"sk-toggleable__label fitted sk-toggleable__label-arrow fitted\">SMOTE</label><div class=\"sk-toggleable__content fitted\"><pre>SMOTE(random_state=42, sampling_strategy=0.5)</pre></div> </div></div></div></div></div><div class=\"sk-parallel-item\"><div class=\"sk-item\"><div class=\"sk-label-container\"><div class=\"sk-label fitted sk-toggleable\"><input class=\"sk-toggleable__control sk-hidden--visually\" id=\"sk-estimator-id-7\" type=\"checkbox\" ><label for=\"sk-estimator-id-7\" class=\"sk-toggleable__label fitted sk-toggleable__label-arrow fitted\">tomek: TomekLinks</label><div class=\"sk-toggleable__content fitted\"><pre>TomekLinks()</pre></div> </div></div><div class=\"sk-serial\"><div class=\"sk-item\"><div class=\"sk-estimator fitted sk-toggleable\"><input class=\"sk-toggleable__control sk-hidden--visually\" id=\"sk-estimator-id-8\" type=\"checkbox\" ><label for=\"sk-estimator-id-8\" class=\"sk-toggleable__label fitted sk-toggleable__label-arrow fitted\">TomekLinks</label><div class=\"sk-toggleable__content fitted\"><pre>TomekLinks()</pre></div> </div></div></div></div></div></div></div><div class=\"sk-item sk-dashed-wrapped\"><div class=\"sk-label-container\"><div class=\"sk-label fitted sk-toggleable\"><input class=\"sk-toggleable__control sk-hidden--visually\" id=\"sk-estimator-id-9\" type=\"checkbox\" ><label for=\"sk-estimator-id-9\" class=\"sk-toggleable__label fitted sk-toggleable__label-arrow fitted\">&nbsp;ensemble: VotingClassifier<a class=\"sk-estimator-doc-link fitted\" rel=\"noreferrer\" target=\"_blank\" href=\"https://scikit-learn.org/1.5/modules/generated/sklearn.ensemble.VotingClassifier.html\">?<span>Documentation for ensemble: VotingClassifier</span></a></label><div class=\"sk-toggleable__content fitted\"><pre>VotingClassifier(estimators=[(&#x27;lr&#x27;,\n",
       "                              LogisticRegression(C=0.1, class_weight=&#x27;balanced&#x27;,\n",
       "                                                 max_iter=1000, n_jobs=-1,\n",
       "                                                 random_state=42,\n",
       "                                                 solver=&#x27;liblinear&#x27;)),\n",
       "                             (&#x27;sgd&#x27;,\n",
       "                              SGDClassifier(class_weight=&#x27;balanced&#x27;,\n",
       "                                            loss=&#x27;log_loss&#x27;, random_state=42)),\n",
       "                             (&#x27;xgb&#x27;,\n",
       "                              XGBClassifier(base_score=None, booster=None,\n",
       "                                            callbacks=None,\n",
       "                                            colsample_bylevel=None,\n",
       "                                            colsample_bynode=None,\n",
       "                                            colsample_bytree...\n",
       "                                            importance_type=None,\n",
       "                                            interaction_constraints=None,\n",
       "                                            learning_rate=0.1, max_bin=None,\n",
       "                                            max_cat_threshold=None,\n",
       "                                            max_cat_to_onehot=None,\n",
       "                                            max_delta_step=None, max_depth=None,\n",
       "                                            max_leaves=None,\n",
       "                                            min_child_weight=None, missing=nan,\n",
       "                                            monotone_constraints=None,\n",
       "                                            multi_strategy=None,\n",
       "                                            n_estimators=None, n_jobs=-1,\n",
       "                                            num_parallel_tree=None,\n",
       "                                            random_state=42, ...))],\n",
       "                 n_jobs=-1, voting=&#x27;soft&#x27;)</pre></div> </div></div><div class=\"sk-parallel\"><div class=\"sk-parallel-item\"><div class=\"sk-item\"><div class=\"sk-label-container\"><div class=\"sk-label fitted sk-toggleable\"><label>lr</label></div></div><div class=\"sk-serial\"><div class=\"sk-item\"><div class=\"sk-estimator fitted sk-toggleable\"><input class=\"sk-toggleable__control sk-hidden--visually\" id=\"sk-estimator-id-10\" type=\"checkbox\" ><label for=\"sk-estimator-id-10\" class=\"sk-toggleable__label fitted sk-toggleable__label-arrow fitted\">&nbsp;LogisticRegression<a class=\"sk-estimator-doc-link fitted\" rel=\"noreferrer\" target=\"_blank\" href=\"https://scikit-learn.org/1.5/modules/generated/sklearn.linear_model.LogisticRegression.html\">?<span>Documentation for LogisticRegression</span></a></label><div class=\"sk-toggleable__content fitted\"><pre>LogisticRegression(C=0.1, class_weight=&#x27;balanced&#x27;, max_iter=1000, n_jobs=-1,\n",
       "                   random_state=42, solver=&#x27;liblinear&#x27;)</pre></div> </div></div></div></div></div><div class=\"sk-parallel-item\"><div class=\"sk-item\"><div class=\"sk-label-container\"><div class=\"sk-label fitted sk-toggleable\"><label>sgd</label></div></div><div class=\"sk-serial\"><div class=\"sk-item\"><div class=\"sk-estimator fitted sk-toggleable\"><input class=\"sk-toggleable__control sk-hidden--visually\" id=\"sk-estimator-id-11\" type=\"checkbox\" ><label for=\"sk-estimator-id-11\" class=\"sk-toggleable__label fitted sk-toggleable__label-arrow fitted\">&nbsp;SGDClassifier<a class=\"sk-estimator-doc-link fitted\" rel=\"noreferrer\" target=\"_blank\" href=\"https://scikit-learn.org/1.5/modules/generated/sklearn.linear_model.SGDClassifier.html\">?<span>Documentation for SGDClassifier</span></a></label><div class=\"sk-toggleable__content fitted\"><pre>SGDClassifier(class_weight=&#x27;balanced&#x27;, loss=&#x27;log_loss&#x27;, random_state=42)</pre></div> </div></div></div></div></div><div class=\"sk-parallel-item\"><div class=\"sk-item\"><div class=\"sk-label-container\"><div class=\"sk-label fitted sk-toggleable\"><label>xgb</label></div></div><div class=\"sk-serial\"><div class=\"sk-item\"><div class=\"sk-estimator fitted sk-toggleable\"><input class=\"sk-toggleable__control sk-hidden--visually\" id=\"sk-estimator-id-12\" type=\"checkbox\" ><label for=\"sk-estimator-id-12\" class=\"sk-toggleable__label fitted sk-toggleable__label-arrow fitted\">XGBClassifier</label><div class=\"sk-toggleable__content fitted\"><pre>XGBClassifier(base_score=None, booster=None, callbacks=None,\n",
       "              colsample_bylevel=None, colsample_bynode=None,\n",
       "              colsample_bytree=None, device=None, early_stopping_rounds=None,\n",
       "              enable_categorical=False, eval_metric=None, feature_types=None,\n",
       "              gamma=None, grow_policy=None, importance_type=None,\n",
       "              interaction_constraints=None, learning_rate=0.1, max_bin=None,\n",
       "              max_cat_threshold=None, max_cat_to_onehot=None,\n",
       "              max_delta_step=None, max_depth=None, max_leaves=None,\n",
       "              min_child_weight=None, missing=nan, monotone_constraints=None,\n",
       "              multi_strategy=None, n_estimators=None, n_jobs=-1,\n",
       "              num_parallel_tree=None, random_state=42, ...)</pre></div> </div></div></div></div></div></div></div></div></div></div></div></div></div></div></div></div>"
      ],
      "text/plain": [
       "GridSearchCV(cv=StratifiedKFold(n_splits=5, random_state=None, shuffle=False),\n",
       "             estimator=Pipeline(steps=[('tfidf',\n",
       "                                        TfidfVectorizer(max_df=0.8,\n",
       "                                                        max_features=5000,\n",
       "                                                        min_df=5,\n",
       "                                                        sublinear_tf=True)),\n",
       "                                       ('smote',\n",
       "                                        SMOTETomek(random_state=42,\n",
       "                                                   smote=SMOTE(random_state=42,\n",
       "                                                               sampling_strategy=0.5),\n",
       "                                                   tomek=TomekLinks())),\n",
       "                                       ('ensemble',\n",
       "                                        VotingClassifier(estimators=[('lr',\n",
       "                                                                      LogisticRe...\n",
       "                                                                                    max_cat_to_onehot=None,\n",
       "                                                                                    max_delta_step=None,\n",
       "                                                                                    max_depth=None,\n",
       "                                                                                    max_leaves=None,\n",
       "                                                                                    min_child_weight=None,\n",
       "                                                                                    missing=nan,\n",
       "                                                                                    monotone_constraints=None,\n",
       "                                                                                    multi_strategy=None,\n",
       "                                                                                    n_estimators=None,\n",
       "                                                                                    n_jobs=-1,\n",
       "                                                                                    num_parallel_tree=None,\n",
       "                                                                                    random_state=42, ...))],\n",
       "                                                         n_jobs=-1,\n",
       "                                                         voting='soft'))]),\n",
       "             n_jobs=-1,\n",
       "             param_grid={'tfidf__max_features': [5000, 10000],\n",
       "                         'tfidf__ngram_range': [(1, 1), (1, 2)]},\n",
       "             scoring='f1')"
      ]
     },
     "execution_count": 17,
     "metadata": {},
     "output_type": "execute_result"
    }
   ],
   "source": [
    "grid_search = GridSearchCV(pipeline, params, cv=StratifiedKFold(n_splits=5),\n",
    "                           scoring='f1', n_jobs=-1)\n",
    "grid_search.fit(X_train, y_train)"
   ]
  },
  {
   "cell_type": "code",
   "execution_count": 18,
   "metadata": {
    "execution": {
     "iopub.execute_input": "2025-03-08T16:42:37.178489Z",
     "iopub.status.busy": "2025-03-08T16:42:37.178183Z",
     "iopub.status.idle": "2025-03-08T16:42:37.183450Z",
     "shell.execute_reply": "2025-03-08T16:42:37.182449Z",
     "shell.execute_reply.started": "2025-03-08T16:42:37.178444Z"
    },
    "id": "bhEey5IUcDab",
    "trusted": true
   },
   "outputs": [
    {
     "name": "stdout",
     "output_type": "stream",
     "text": [
      "Best Parameters: {'tfidf__max_features': 5000, 'tfidf__ngram_range': (1, 1)}\n"
     ]
    }
   ],
   "source": [
    "print(f\"Best Parameters: {grid_search.best_params_}\")"
   ]
  },
  {
   "cell_type": "markdown",
   "metadata": {
    "id": "9e0pkckPcDac"
   },
   "source": [
    "## **Model Evaluation**"
   ]
  },
  {
   "cell_type": "code",
   "execution_count": 19,
   "metadata": {
    "execution": {
     "iopub.execute_input": "2025-03-08T16:42:37.184822Z",
     "iopub.status.busy": "2025-03-08T16:42:37.184526Z",
     "iopub.status.idle": "2025-03-08T16:42:37.203346Z",
     "shell.execute_reply": "2025-03-08T16:42:37.202487Z",
     "shell.execute_reply.started": "2025-03-08T16:42:37.184790Z"
    },
    "id": "7C6sUqBgcDac",
    "trusted": true
   },
   "outputs": [],
   "source": [
    "def calculate_metrics(actual, predict, conf_matrix):\n",
    "    tn, fp, _, _ = conf_matrix.ravel()\n",
    "\n",
    "    accuracy = accuracy_score(actual, predict)\n",
    "    precision = precision_score(actual, predict, average='macro')\n",
    "    recall = recall_score(actual, predict, average='macro')\n",
    "    specificity = tn / (tn + fp)\n",
    "    f1 = f1_score(actual, predict, average='macro')\n",
    "\n",
    "    metrics = {\n",
    "        \"Accuracy\": accuracy,\n",
    "        \"Precision\": precision,\n",
    "        \"Recall\": recall,\n",
    "        \"Specificity\": specificity,\n",
    "        \"F1-score\": f1\n",
    "    }\n",
    "\n",
    "    return metrics\n",
    "\n",
    "def display_metrics(metrics):\n",
    "    for metric_name, metric_value in metrics.items():\n",
    "        print(f\"{metric_name.ljust(12)}: {metric_value * 100:.2f}%\")"
   ]
  },
  {
   "cell_type": "code",
   "execution_count": 20,
   "metadata": {
    "execution": {
     "iopub.execute_input": "2025-03-08T16:42:37.204508Z",
     "iopub.status.busy": "2025-03-08T16:42:37.204221Z",
     "iopub.status.idle": "2025-03-08T16:42:41.050941Z",
     "shell.execute_reply": "2025-03-08T16:42:41.049801Z",
     "shell.execute_reply.started": "2025-03-08T16:42:37.204480Z"
    },
    "id": "INlXcXaLcDad",
    "trusted": true
   },
   "outputs": [],
   "source": [
    "model = grid_search.best_estimator_\n",
    "y_pred = model.predict(X_test)"
   ]
  },
  {
   "cell_type": "code",
   "execution_count": 21,
   "metadata": {
    "execution": {
     "iopub.execute_input": "2025-03-08T16:42:41.052520Z",
     "iopub.status.busy": "2025-03-08T16:42:41.052167Z",
     "iopub.status.idle": "2025-03-08T16:42:41.067868Z",
     "shell.execute_reply": "2025-03-08T16:42:41.067237Z",
     "shell.execute_reply.started": "2025-03-08T16:42:41.052483Z"
    },
    "id": "quNgYOfTcDae",
    "trusted": true
   },
   "outputs": [
    {
     "name": "stdout",
     "output_type": "stream",
     "text": [
      "              precision    recall  f1-score   support\n",
      "\n",
      "           0       0.97      0.96      0.97      1673\n",
      "           1       0.66      0.73      0.69       176\n",
      "\n",
      "    accuracy                           0.94      1849\n",
      "   macro avg       0.81      0.84      0.83      1849\n",
      "weighted avg       0.94      0.94      0.94      1849\n",
      "\n"
     ]
    }
   ],
   "source": [
    "print(classification_report(y_test, y_pred))"
   ]
  },
  {
   "cell_type": "code",
   "execution_count": 22,
   "metadata": {
    "execution": {
     "iopub.execute_input": "2025-03-08T16:42:41.071274Z",
     "iopub.status.busy": "2025-03-08T16:42:41.071022Z",
     "iopub.status.idle": "2025-03-08T16:42:41.084819Z",
     "shell.execute_reply": "2025-03-08T16:42:41.084226Z",
     "shell.execute_reply.started": "2025-03-08T16:42:41.071253Z"
    },
    "id": "3bmIENiycDaf",
    "trusted": true
   },
   "outputs": [
    {
     "name": "stdout",
     "output_type": "stream",
     "text": [
      "Accuracy    : 93.78%\n",
      "Precision   : 81.37%\n",
      "Recall      : 84.36%\n",
      "Specificity : 96.00%\n",
      "F1-score    : 82.77%\n"
     ]
    }
   ],
   "source": [
    "conf_matrix_train = confusion_matrix(y_test, y_pred)\n",
    "\n",
    "metrics_train = calculate_metrics(y_test, y_pred, conf_matrix_train)\n",
    "display_metrics(metrics_train)"
   ]
  },
  {
   "cell_type": "code",
   "execution_count": 23,
   "metadata": {
    "execution": {
     "iopub.execute_input": "2025-03-08T16:42:41.086093Z",
     "iopub.status.busy": "2025-03-08T16:42:41.085824Z",
     "iopub.status.idle": "2025-03-08T16:42:41.305481Z",
     "shell.execute_reply": "2025-03-08T16:42:41.304703Z",
     "shell.execute_reply.started": "2025-03-08T16:42:41.086070Z"
    },
    "id": "aq0OK03pcDag",
    "trusted": true
   },
   "outputs": [
    {
     "data": {
      "image/png": "[encoded data removed]",
      "text/plain": [
       "<Figure size 300x300 with 1 Axes>"
      ]
     },
     "metadata": {},
     "output_type": "display_data"
    }
   ],
   "source": [
    "fig, ax = plt.subplots(figsize=(3, 3))\n",
    "ConfusionMatrixDisplay.from_predictions(y_test, y_pred, display_labels=[\"No\", \"Yes\"],\n",
    "                                        ax=ax, colorbar=False, cmap='Blues')\n",
    "ax.set_title(\"Ensemble\")\n",
    "plt.show()"
   ]
  },
  {
   "cell_type": "markdown",
   "metadata": {},
   "source": [
    "## **Export Model**"
   ]
  },
  {
   "cell_type": "code",
   "execution_count": 24,
   "metadata": {
    "execution": {
     "iopub.execute_input": "2025-03-08T16:42:41.306513Z",
     "iopub.status.busy": "2025-03-08T16:42:41.306285Z",
     "iopub.status.idle": "2025-03-08T16:42:43.618818Z",
     "shell.execute_reply": "2025-03-08T16:42:43.618133Z",
     "shell.execute_reply.started": "2025-03-08T16:42:41.306492Z"
    },
    "trusted": true
   },
   "outputs": [
    {
     "data": {
      "text/plain": [
       "['ensemble.joblib']"
      ]
     },
     "execution_count": 24,
     "metadata": {},
     "output_type": "execute_result"
    }
   ],
   "source": [
    "import joblib\n",
    "joblib.dump(model, 'ensemble.joblib')"
   ]
  }
 ],
 "metadata": {
  "accelerator": "GPU",
  "colab": {
   "gpuType": "T4",
   "provenance": []
  },
  "kaggle": {
   "accelerator": "nvidiaTeslaT4",
   "dataSources": [
    {
     "datasetId": 6805313,
     "sourceId": 10942346,
     "sourceType": "datasetVersion"
    }
   ],
   "dockerImageVersionId": 30919,
   "isGpuEnabled": true,
   "isInternetEnabled": true,
   "language": "python",
   "sourceType": "notebook"
  },
  "kernelspec": {
   "display_name": "Python 3",
   "language": "python",
   "name": "python3"
  },
  "language_info": {
   "codemirror_mode": {
    "name": "ipython",
    "version": 3
   },
   "file_extension": ".py",
   "mimetype": "text/x-python",
   "name": "python",
   "nbconvert_exporter": "python",
   "pygments_lexer": "ipython3",
   "version": "3.12.4"
  }
 },
 "nbformat": 4,
 "nbformat_minor": 4
}
